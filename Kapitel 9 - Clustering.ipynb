{
 "cells": [
  {
   "cell_type": "code",
   "execution_count": 2,
   "metadata": {},
   "outputs": [
    {
     "name": "stderr",
     "output_type": "stream",
     "text": [
      "C:\\Users\\mafane\\AppData\\Local\\Temp\\ipykernel_18740\\851035096.py:2: DeprecationWarning: Importing display from IPython.core.display is deprecated since IPython 7.14, please import from IPython display\n",
      "  from IPython.core.display import display, HTML\n"
     ]
    },
    {
     "data": {
      "text/html": [
       "<style>.container { width:100% !important; }</style>"
      ],
      "text/plain": [
       "<IPython.core.display.HTML object>"
      ]
     },
     "metadata": {},
     "output_type": "display_data"
    }
   ],
   "source": [
    "from IPython.display import display\n",
    "from IPython.core.display import display, HTML\n",
    "display(HTML(\"<style>.container { width:100% !important; }</style>\"))\n",
    "\n",
    "import pandas as pd\n",
    "import numpy as np\n",
    "import matplotlib.pyplot as plt"
   ]
  },
  {
   "cell_type": "markdown",
   "metadata": {},
   "source": [
    "# KMeans"
   ]
  },
  {
   "cell_type": "code",
   "execution_count": 4,
   "metadata": {},
   "outputs": [],
   "source": [
    "from sklearn.cluster import KMeans\n",
    "from sklearn.datasets import make_blobs"
   ]
  },
  {
   "cell_type": "code",
   "execution_count": 36,
   "metadata": {},
   "outputs": [
    {
     "data": {
      "text/plain": [
       "(500, 5)"
      ]
     },
     "execution_count": 36,
     "metadata": {},
     "output_type": "execute_result"
    }
   ],
   "source": [
    "X, y = make_blobs(n_samples=500, random_state=42)\n",
    "X.shape"
   ]
  },
  {
   "cell_type": "code",
   "execution_count": 37,
   "metadata": {},
   "outputs": [
    {
     "data": {
      "image/png": "[encoded data removed]",
      "text/plain": [
       "<Figure size 640x480 with 1 Axes>"
      ]
     },
     "metadata": {},
     "output_type": "display_data"
    }
   ],
   "source": [
    "for i in X:\n",
    "    plt.scatter(i[0], i[1], c='k')"
   ]
  },
  {
   "cell_type": "code",
   "execution_count": 41,
   "metadata": {},
   "outputs": [],
   "source": [
    "k = 5\n",
    "kmeans = KMeans(n_clusters=k, random_state=42)\n",
    "y_pred = kmeans.fit_predict(X)"
   ]
  },
  {
   "cell_type": "code",
   "execution_count": 42,
   "metadata": {},
   "outputs": [
    {
     "data": {
      "text/plain": [
       "array([2, 3, 0, 1, 3, 0, 4, 1, 1, 0, 0, 4, 1, 3, 3, 2, 1, 1, 4, 2, 0, 1,\n",
       "       1, 3, 0, 3, 1, 1, 2, 1, 1, 4, 1, 2, 4, 0, 1, 1, 2, 2, 0, 3, 1, 2,\n",
       "       4, 0, 3, 1, 4, 0, 0, 1, 4, 1, 1, 1, 1, 0, 1, 2, 1, 3, 1, 1, 1, 4,\n",
       "       2, 2, 2, 3, 1, 0, 4, 2, 1, 2, 1, 2, 3, 0, 4, 1, 0, 4, 1, 0, 4, 0,\n",
       "       2, 4, 3, 1, 0, 3, 2, 3, 2, 0, 2, 1, 0, 1, 0, 3, 1, 3, 0, 2, 4, 1,\n",
       "       1, 2, 0, 1, 4, 1, 1, 1, 0, 1, 2, 0, 2, 2, 1, 0, 2, 1, 2, 0, 3, 1,\n",
       "       3, 3, 0, 0, 1, 0, 4, 1, 0, 0, 1, 1, 0, 4, 1, 3, 3, 1, 1, 1, 0, 0,\n",
       "       0, 4, 2, 2, 1, 1, 0, 2, 2, 0, 2, 4, 0, 1, 1, 1, 4, 4, 1, 0, 4, 1,\n",
       "       3, 4, 0, 2, 1, 1, 2, 3, 4, 0, 1, 0, 4, 1, 1, 3, 1, 3, 1, 0, 2, 3,\n",
       "       4, 1, 1, 2, 2, 2, 3, 3, 3, 3, 4, 3, 0, 2, 4, 0, 1, 1, 2, 0, 1, 1,\n",
       "       1, 4, 0, 1, 1, 0, 3, 2, 3, 1, 3, 1, 3, 4, 1, 1, 0, 1, 1, 4, 0, 4,\n",
       "       3, 0, 0, 2, 2, 0, 1, 1, 1, 1, 0, 4, 1, 0, 0, 4, 1, 0, 3, 2, 1, 1,\n",
       "       0, 3, 1, 2, 1, 0, 1, 1, 1, 3, 0, 0, 4, 2, 0, 2, 0, 0, 1, 4, 0, 3,\n",
       "       3, 3, 0, 1, 2, 0, 2, 3, 0, 0, 2, 4, 2, 3, 1, 1, 3, 3, 1, 1, 0, 1,\n",
       "       0, 2, 1, 4, 3, 1, 0, 1, 2, 2, 2, 0, 4, 4, 4, 1, 2, 1, 3, 3, 2, 4,\n",
       "       1, 1, 2, 1, 4, 3, 2, 3, 4, 1, 1, 1, 3, 3, 1, 2, 1, 1, 2, 3, 3, 3,\n",
       "       4, 4, 2, 2, 1, 2, 1, 2, 0, 4, 0, 1, 0, 0, 2, 4, 4, 2, 2, 1, 0, 2,\n",
       "       1, 2, 1, 4, 1, 4, 3, 0, 1, 1, 0, 1, 4, 1, 4, 1, 3, 1, 3, 1, 2, 1,\n",
       "       4, 4, 0, 1, 1, 3, 3, 0, 1, 4, 0, 1, 0, 2, 1, 3, 2, 2, 1, 1, 1, 3,\n",
       "       2, 2, 0, 2, 1, 1, 4, 0, 4, 1, 3, 0, 2, 3, 2, 0, 4, 1, 3, 1, 1, 0,\n",
       "       1, 2, 4, 1, 1, 1, 0, 3, 1, 0, 1, 2, 1, 1, 4, 0, 1, 2, 0, 1, 2, 1,\n",
       "       1, 1, 3, 0, 1, 1, 2, 0, 2, 3, 3, 4, 2, 2, 3, 2, 3, 3, 1, 1, 0, 3,\n",
       "       2, 1, 1, 4, 2, 4, 0, 3, 2, 2, 0, 4, 4, 1, 0, 1], dtype=int32)"
      ]
     },
     "execution_count": 42,
     "metadata": {},
     "output_type": "execute_result"
    }
   ],
   "source": [
    "kmeans.labels_"
   ]
  },
  {
   "cell_type": "code",
   "execution_count": 43,
   "metadata": {},
   "outputs": [
    {
     "data": {
      "text/plain": [
       "array([[-2.99307411,  9.40143765,  4.79880188,  1.82628272, -6.91160554],\n",
       "       [-6.86387501, -8.76743578,  7.36569817,  1.980137  ,  4.10196103],\n",
       "       [-9.73874891,  9.94778443,  6.90499056, -6.10857588, -6.69674433],\n",
       "       [-9.4939234 ,  8.47436181,  6.46511241, -5.2681679 , -6.17899619],\n",
       "       [-1.71813854,  8.38852658,  4.34650699,  2.39520203, -6.7409682 ]])"
      ]
     },
     "execution_count": 43,
     "metadata": {},
     "output_type": "execute_result"
    }
   ],
   "source": [
    "kmeans.cluster_centers_"
   ]
  }
 ],
 "metadata": {
  "kernelspec": {
   "display_name": ".venv",
   "language": "python",
   "name": "python3"
  },
  "language_info": {
   "codemirror_mode": {
    "name": "ipython",
    "version": 3
   },
   "file_extension": ".py",
   "mimetype": "text/x-python",
   "name": "python",
   "nbconvert_exporter": "python",
   "pygments_lexer": "ipython3",
   "version": "3.11.1"
  }
 },
 "nbformat": 4,
 "nbformat_minor": 2
}
